{
  "nbformat": 4,
  "nbformat_minor": 0,
  "metadata": {
    "colab": {
      "provenance": []
    },
    "kernelspec": {
      "name": "python3",
      "display_name": "Python 3"
    },
    "language_info": {
      "name": "python"
    }
  },
  "cells": [
    {
      "cell_type": "code",
      "execution_count": null,
      "metadata": {
        "id": "9gonUTAIRP6a"
      },
      "outputs": [],
      "source": [
        "import numpy\n",
        "\n",
        "def cal_pop_fitness(equation_inputs, pop):\n",
        "    fitness = numpy.sum(pop*equation_inputs, axis=1)\n",
        "    return fitness\n",
        "\n",
        "def select_mating_pool(pop, fitness, num_parents):\n",
        "    parents = numpy.empty((num_parents, pop.shape[1]))\n",
        "    for parent_num in range(num_parents):\n",
        "        max_fitness_idx = numpy.where(fitness == numpy.max(fitness))\n",
        "        max_fitness_idx = max_fitness_idx[0][0]\n",
        "        parents[parent_num, :] = pop[max_fitness_idx, :]\n",
        "        fitness[max_fitness_idx] = -99999999999\n",
        "    return parents\n",
        "\n",
        "def crossover(parents, offspring_size):\n",
        "    offspring = numpy.empty(offspring_size)\n",
        "    crossover_point = numpy.uint8(offspring_size[1]/2)\n",
        "\n",
        "    for k in range(offspring_size[0]):\n",
        "        parent1_idx = k%parents.shape[0]\n",
        "        parent2_idx = (k+1)%parents.shape[0]\n",
        "        offspring[k, 0:crossover_point] = parents[parent1_idx, 0:crossover_point]\n",
        "        offspring[k, crossover_point:] = parents[parent2_idx, crossover_point:]\n",
        "    return offspring\n",
        "\n",
        "def mutation(offspring_crossover):\n",
        "    for idx in range(offspring_crossover.shape[0]):\n",
        "        random_value = numpy.random.uniform(-1.0, 1.0, 1)\n",
        "        offspring_crossover[idx, 4] = offspring_crossover[idx, 4] + random_value\n",
        "    return offspring_crossover"
      ]
    },
    {
      "cell_type": "code",
      "source": [
        "equation_inputs = [4,-2,3.5,5,-11,-4.7]\n",
        "num_weights = 6\n",
        "\n",
        "sol_per_pop = 8\n",
        "num_parents_mating = 4\n",
        "\n",
        "pop_size = (sol_per_pop,num_weights)\n",
        "\n",
        "new_population = numpy.random.uniform(low=-4.0, high=4.0, size=pop_size)\n",
        "print(new_population)"
      ],
      "metadata": {
        "colab": {
          "base_uri": "https://localhost:8080/"
        },
        "id": "d5rnpTS6RbUA",
        "outputId": "991abc2e-be42-496a-dd5c-8a463190b3b3"
      },
      "execution_count": null,
      "outputs": [
        {
          "output_type": "stream",
          "name": "stdout",
          "text": [
            "[[ 3.92090643  3.67972996 -2.67173031 -2.40512558 -2.42754671  2.97441038]\n",
            " [ 1.48916952 -2.41529487  3.09229438  0.08640746  2.79256501  0.01761222]\n",
            " [ 2.6705288   3.79519172  1.98808333 -1.84980172 -0.0976339   2.00187064]\n",
            " [-2.40937518  1.92388315  0.92122964  2.71902366  3.9750079  -1.5209521 ]\n",
            " [-0.24207078  2.95236321 -0.58648888  2.09807824  1.73787591  0.97188336]\n",
            " [-0.79067893  3.3492489  -3.10197785  1.21145787  3.80990079 -3.98661726]\n",
            " [ 1.05023968 -3.10847198 -2.50122958 -2.24330013 -1.01726758  0.09623176]\n",
            " [ 3.82511413 -3.3587703  -1.70771954  0.20442205 -2.91029693  2.2716774 ]]\n"
          ]
        }
      ]
    },
    {
      "cell_type": "code",
      "source": [
        "num_generations = 5\n",
        "for generation in range(num_generations):\n",
        "    print(\"Generation : \", generation)\n",
        "    fitness = cal_pop_fitness(equation_inputs, new_population)\n",
        "\n",
        "    parents = select_mating_pool(new_population, fitness, \n",
        "                                      num_parents_mating)\n",
        "    \n",
        "    offspring_crossover = crossover(parents,\n",
        "                                       offspring_size=(pop_size[0]-parents.shape[0], num_weights))\n",
        "\n",
        "    offspring_mutation = mutation(offspring_crossover)\n",
        "\n",
        "    new_population[0:parents.shape[0], :] = parents\n",
        "    new_population[parents.shape[0]:, :] = offspring_mutation\n",
        "\n",
        "    print(\"Best result : \", numpy.max(numpy.sum(new_population*equation_inputs, axis=1)))"
      ],
      "metadata": {
        "colab": {
          "base_uri": "https://localhost:8080/"
        },
        "id": "oUiWqnCQRgQ8",
        "outputId": "2bcdb565-f320-4137-b0b2-fb99e1b19430"
      },
      "execution_count": null,
      "outputs": [
        {
          "output_type": "stream",
          "name": "stdout",
          "text": [
            "Generation :  0\n",
            "Best result :  51.85368679553216\n",
            "Generation :  1\n",
            "Best result :  51.85368679553216\n",
            "Generation :  2\n",
            "Best result :  52.82804910461524\n",
            "Generation :  3\n",
            "Best result :  59.06196822393739\n",
            "Generation :  4\n",
            "Best result :  61.76866687459792\n"
          ]
        }
      ]
    },
    {
      "cell_type": "code",
      "source": [
        "fitness = cal_pop_fitness(equation_inputs, new_population)\n",
        "best_match_idx = numpy.where(fitness == numpy.max(fitness))\n",
        "print(\"Best solution : \", new_population[best_match_idx, :])\n",
        "print(\"Best solution fitness : \", fitness[best_match_idx])"
      ],
      "metadata": {
        "colab": {
          "base_uri": "https://localhost:8080/"
        },
        "id": "kI7X3Hj8Rkoz",
        "outputId": "407c9bb2-4cbe-4ab8-80e1-6410aa81269b"
      },
      "execution_count": null,
      "outputs": [
        {
          "output_type": "stream",
          "name": "stdout",
          "text": [
            "Best solution :  [[[ 3.82511413 -3.3587703  -1.70771954  0.20442205 -5.03476924\n",
            "    2.2716774 ]]]\n",
            "Best solution fitness :  [61.76866687]\n"
          ]
        }
      ]
    }
  ]
}